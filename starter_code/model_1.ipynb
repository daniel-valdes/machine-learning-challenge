{
 "cells": [
  {
   "cell_type": "code",
   "execution_count": null,
   "metadata": {},
   "outputs": [],
   "source": [
    "# Update sklearn to prevent version mismatches\n",
    "!pip install sklearn --upgrade"
   ]
  },
  {
   "cell_type": "code",
   "execution_count": 1,
   "metadata": {},
   "outputs": [
    {
     "name": "stdout",
     "output_type": "stream",
     "text": [
      "Requirement already satisfied: joblib in /Users/danvaldes/anaconda3/lib/python3.7/site-packages (0.13.2)\r\n"
     ]
    }
   ],
   "source": [
    "# install joblib. This will be used to save your model. \n",
    "# Restart your kernel after installing \n",
    "!pip install joblib"
   ]
  },
  {
   "cell_type": "code",
   "execution_count": 37,
   "metadata": {},
   "outputs": [],
   "source": [
    "import pandas as pd\n",
    "import matplotlib.pyplot as plt\n",
    "from sklearn.model_selection import train_test_split \n",
    "from sklearn.neighbors import KNeighborsClassifier"
   ]
  },
  {
   "cell_type": "markdown",
   "metadata": {},
   "source": [
    "# Read the CSV and Perform Basic Data Cleaning"
   ]
  },
  {
   "cell_type": "code",
   "execution_count": 9,
   "metadata": {},
   "outputs": [
    {
     "data": {
      "text/plain": [
       "array(['CONFIRMED', 'FALSE POSITIVE', 'CANDIDATE'], dtype=object)"
      ]
     },
     "execution_count": 9,
     "metadata": {},
     "output_type": "execute_result"
    }
   ],
   "source": [
    "df = pd.read_csv(\"exoplanet_data.csv\")\n",
    "# Drop the null columns where all values are null\n",
    "df = df.dropna(axis='columns', how='all')\n",
    "# Drop the null rows\n",
    "df = df.dropna()\n",
    "df['koi_disposition'].unique()"
   ]
  },
  {
   "cell_type": "code",
   "execution_count": 3,
   "metadata": {},
   "outputs": [
    {
     "data": {
      "text/plain": [
       "Index(['koi_disposition', 'koi_fpflag_nt', 'koi_fpflag_ss', 'koi_fpflag_co',\n",
       "       'koi_fpflag_ec', 'koi_period', 'koi_period_err1', 'koi_period_err2',\n",
       "       'koi_time0bk', 'koi_time0bk_err1', 'koi_time0bk_err2', 'koi_impact',\n",
       "       'koi_impact_err1', 'koi_impact_err2', 'koi_duration',\n",
       "       'koi_duration_err1', 'koi_duration_err2', 'koi_depth', 'koi_depth_err1',\n",
       "       'koi_depth_err2', 'koi_prad', 'koi_prad_err1', 'koi_prad_err2',\n",
       "       'koi_teq', 'koi_insol', 'koi_insol_err1', 'koi_insol_err2',\n",
       "       'koi_model_snr', 'koi_tce_plnt_num', 'koi_steff', 'koi_steff_err1',\n",
       "       'koi_steff_err2', 'koi_slogg', 'koi_slogg_err1', 'koi_slogg_err2',\n",
       "       'koi_srad', 'koi_srad_err1', 'koi_srad_err2', 'ra', 'dec',\n",
       "       'koi_kepmag'],\n",
       "      dtype='object')"
      ]
     },
     "execution_count": 3,
     "metadata": {},
     "output_type": "execute_result"
    }
   ],
   "source": [
    "df.columns"
   ]
  },
  {
   "cell_type": "markdown",
   "metadata": {},
   "source": [
    "# Select your features (columns)"
   ]
  },
  {
   "cell_type": "code",
   "execution_count": 15,
   "metadata": {},
   "outputs": [],
   "source": [
    "# Set features. This will also be used as your x values.\n",
    "selected_features = ['koi_fpflag_nt', 'koi_fpflag_ss', 'koi_fpflag_co',\n",
    "       'koi_fpflag_ec', 'koi_period', 'koi_period_err1', 'koi_period_err2',\n",
    "       'koi_time0bk', 'koi_time0bk_err1', 'koi_time0bk_err2', 'koi_impact',\n",
    "       'koi_impact_err1', 'koi_impact_err2', 'koi_duration',\n",
    "       'koi_duration_err1', 'koi_duration_err2', 'koi_depth', 'koi_depth_err1',\n",
    "       'koi_depth_err2', 'koi_prad', 'koi_prad_err1', 'koi_prad_err2',\n",
    "       'koi_teq', 'koi_insol', 'koi_insol_err1', 'koi_insol_err2',\n",
    "       'koi_model_snr', 'koi_tce_plnt_num', 'koi_steff', 'koi_steff_err1',\n",
    "       'koi_steff_err2', 'koi_slogg', 'koi_slogg_err1', 'koi_slogg_err2',\n",
    "       'koi_srad', 'koi_srad_err1', 'koi_srad_err2', 'ra', 'dec',\n",
    "       'koi_kepmag']"
   ]
  },
  {
   "cell_type": "markdown",
   "metadata": {},
   "source": [
    "# Create a Train Test Split\n",
    "\n",
    "Use `koi_disposition` for the y values"
   ]
  },
  {
   "cell_type": "code",
   "execution_count": 26,
   "metadata": {},
   "outputs": [],
   "source": [
    "X = df[selected_features].values\n",
    "y = df['koi_disposition'].values"
   ]
  },
  {
   "cell_type": "code",
   "execution_count": 27,
   "metadata": {},
   "outputs": [],
   "source": [
    "X_train, X_test, y_train, y_test = train_test_split(X, y, random_state=42)"
   ]
  },
  {
   "cell_type": "code",
   "execution_count": 30,
   "metadata": {},
   "outputs": [],
   "source": [
    "X_train;"
   ]
  },
  {
   "cell_type": "markdown",
   "metadata": {},
   "source": [
    "# Pre-processing\n",
    "\n",
    "Scale the data using the MinMaxScaler and perform some feature selection"
   ]
  },
  {
   "cell_type": "code",
   "execution_count": 31,
   "metadata": {},
   "outputs": [],
   "source": [
    "# Scale your data\n",
    "from sklearn.preprocessing import MinMaxScaler\n",
    "scaler = MinMaxScaler().fit(X_train.reshape(-1, 1))"
   ]
  },
  {
   "cell_type": "code",
   "execution_count": 34,
   "metadata": {},
   "outputs": [],
   "source": [
    "X_train_scaled = scaler.transform(X_train)\n",
    "X_test_scaled = scaler.transform(X_test)"
   ]
  },
  {
   "cell_type": "code",
   "execution_count": 40,
   "metadata": {},
   "outputs": [
    {
     "name": "stdout",
     "output_type": "stream",
     "text": [
      "k: 1, Train/Test Score: 1.000/0.601\n",
      "k: 3, Train/Test Score: 0.791/0.624\n",
      "k: 5, Train/Test Score: 0.746/0.625\n",
      "k: 7, Train/Test Score: 0.727/0.637\n",
      "k: 9, Train/Test Score: 0.717/0.636\n",
      "k: 11, Train/Test Score: 0.712/0.639\n",
      "k: 13, Train/Test Score: 0.706/0.644\n",
      "k: 15, Train/Test Score: 0.698/0.641\n",
      "k: 17, Train/Test Score: 0.691/0.634\n",
      "k: 19, Train/Test Score: 0.687/0.634\n",
      "k: 21, Train/Test Score: 0.686/0.632\n",
      "k: 23, Train/Test Score: 0.682/0.639\n",
      "k: 25, Train/Test Score: 0.682/0.636\n",
      "k: 27, Train/Test Score: 0.678/0.640\n",
      "k: 29, Train/Test Score: 0.675/0.636\n"
     ]
    },
    {
     "data": {
      "image/png": "[encoded data removed]",
      "text/plain": [
       "<Figure size 432x288 with 1 Axes>"
      ]
     },
     "metadata": {
      "needs_background": "light"
     },
     "output_type": "display_data"
    }
   ],
   "source": [
    "# Loop through different k values to see which has the highest accuracy\n",
    "# Note: We only use odd numbers because we don't want any ties\n",
    "train_scores = []\n",
    "test_scores = []\n",
    "for k in range(1, 30, 2):\n",
    "    knn = KNeighborsClassifier(n_neighbors=k)\n",
    "    knn.fit(X_train_scaled, y_train)\n",
    "    train_score = knn.score(X_train_scaled, y_train)\n",
    "    test_score = knn.score(X_test_scaled, y_test)\n",
    "    train_scores.append(train_score)\n",
    "    test_scores.append(test_score)\n",
    "    print(f\"k: {k}, Train/Test Score: {train_score:.3f}/{test_score:.3f}\")\n",
    "    \n",
    "    \n",
    "plt.plot(range(1, 30, 2), train_scores, marker='o')\n",
    "plt.plot(range(1, 30, 2), test_scores, marker=\"x\")\n",
    "plt.xlabel(\"k neighbors\")\n",
    "plt.ylabel(\"Testing accuracy Score\")\n",
    "plt.show()"
   ]
  },
  {
   "cell_type": "markdown",
   "metadata": {},
   "source": [
    "# Train the Model\n",
    "\n"
   ]
  },
  {
   "cell_type": "code",
   "execution_count": 42,
   "metadata": {},
   "outputs": [
    {
     "data": {
      "text/plain": [
       "KNeighborsClassifier(algorithm='auto', leaf_size=30, metric='minkowski',\n",
       "                     metric_params=None, n_jobs=None, n_neighbors=20, p=2,\n",
       "                     weights='uniform')"
      ]
     },
     "execution_count": 42,
     "metadata": {},
     "output_type": "execute_result"
    }
   ],
   "source": [
    "model2 = KNeighborsClassifier(n_neighbors=20)\n",
    "model2.fit(X_train_scaled, y_train)"
   ]
  },
  {
   "cell_type": "code",
   "execution_count": 43,
   "metadata": {},
   "outputs": [
    {
     "name": "stdout",
     "output_type": "stream",
     "text": [
      "Training Data Score: 0.6833873736410452\n",
      "Testing Data Score: 0.6321510297482837\n"
     ]
    }
   ],
   "source": [
    "print(f\"Training Data Score: {model2.score(X_train_scaled, y_train)}\")\n",
    "print(f\"Testing Data Score: {model2.score(X_test_scaled, y_test)}\")"
   ]
  },
  {
   "cell_type": "markdown",
   "metadata": {},
   "source": [
    "# Hyperparameter Tuning\n",
    "\n",
    "Use `GridSearchCV` to tune the model's parameters"
   ]
  },
  {
   "cell_type": "code",
   "execution_count": 44,
   "metadata": {},
   "outputs": [],
   "source": [
    "# Create the GridSearchCV model\n",
    "from sklearn.model_selection import GridSearchCV\n",
    "param_grid = {\n",
    "              'algorithm': ['auto', 'ball_tree', 'kd_tree', 'brute'],\n",
    "              'leaf_size': [20, 25, 30, 40, 45, 50],\n",
    "              'p': [1,2]\n",
    "             \n",
    "            }\n",
    "grid = GridSearchCV(model2, param_grid, verbose=3)"
   ]
  },
  {
   "cell_type": "code",
   "execution_count": 45,
   "metadata": {},
   "outputs": [
    {
     "name": "stderr",
     "output_type": "stream",
     "text": [
      "/Users/danvaldes/anaconda3/lib/python3.7/site-packages/sklearn/model_selection/_split.py:1978: FutureWarning: The default value of cv will change from 3 to 5 in version 0.22. Specify it explicitly to silence this warning.\n",
      "  warnings.warn(CV_WARNING, FutureWarning)\n",
      "[Parallel(n_jobs=1)]: Using backend SequentialBackend with 1 concurrent workers.\n"
     ]
    },
    {
     "name": "stdout",
     "output_type": "stream",
     "text": [
      "Fitting 3 folds for each of 48 candidates, totalling 144 fits\n",
      "[CV] algorithm=auto, leaf_size=20, p=1 ...............................\n",
      "[CV] ... algorithm=auto, leaf_size=20, p=1, score=0.666, total=   0.2s\n",
      "[CV] algorithm=auto, leaf_size=20, p=1 ...............................\n"
     ]
    },
    {
     "name": "stderr",
     "output_type": "stream",
     "text": [
      "[Parallel(n_jobs=1)]: Done   1 out of   1 | elapsed:    0.2s remaining:    0.0s\n",
      "[Parallel(n_jobs=1)]: Done   2 out of   2 | elapsed:    0.4s remaining:    0.0s\n"
     ]
    },
    {
     "name": "stdout",
     "output_type": "stream",
     "text": [
      "[CV] ... algorithm=auto, leaf_size=20, p=1, score=0.661, total=   0.2s\n",
      "[CV] algorithm=auto, leaf_size=20, p=1 ...............................\n",
      "[CV] ... algorithm=auto, leaf_size=20, p=1, score=0.663, total=   0.2s\n",
      "[CV] algorithm=auto, leaf_size=20, p=2 ...............................\n",
      "[CV] ... algorithm=auto, leaf_size=20, p=2, score=0.646, total=   0.2s\n",
      "[CV] algorithm=auto, leaf_size=20, p=2 ...............................\n",
      "[CV] ... algorithm=auto, leaf_size=20, p=2, score=0.642, total=   0.2s\n",
      "[CV] algorithm=auto, leaf_size=20, p=2 ...............................\n",
      "[CV] ... algorithm=auto, leaf_size=20, p=2, score=0.629, total=   0.2s\n",
      "[CV] algorithm=auto, leaf_size=25, p=1 ...............................\n",
      "[CV] ... algorithm=auto, leaf_size=25, p=1, score=0.666, total=   0.3s\n",
      "[CV] algorithm=auto, leaf_size=25, p=1 ...............................\n",
      "[CV] ... algorithm=auto, leaf_size=25, p=1, score=0.661, total=   0.2s\n",
      "[CV] algorithm=auto, leaf_size=25, p=1 ...............................\n",
      "[CV] ... algorithm=auto, leaf_size=25, p=1, score=0.663, total=   0.2s\n",
      "[CV] algorithm=auto, leaf_size=25, p=2 ...............................\n",
      "[CV] ... algorithm=auto, leaf_size=25, p=2, score=0.646, total=   0.2s\n",
      "[CV] algorithm=auto, leaf_size=25, p=2 ...............................\n",
      "[CV] ... algorithm=auto, leaf_size=25, p=2, score=0.642, total=   0.2s\n",
      "[CV] algorithm=auto, leaf_size=25, p=2 ...............................\n",
      "[CV] ... algorithm=auto, leaf_size=25, p=2, score=0.629, total=   0.2s\n",
      "[CV] algorithm=auto, leaf_size=30, p=1 ...............................\n",
      "[CV] ... algorithm=auto, leaf_size=30, p=1, score=0.666, total=   0.3s\n",
      "[CV] algorithm=auto, leaf_size=30, p=1 ...............................\n",
      "[CV] ... algorithm=auto, leaf_size=30, p=1, score=0.661, total=   0.2s\n",
      "[CV] algorithm=auto, leaf_size=30, p=1 ...............................\n",
      "[CV] ... algorithm=auto, leaf_size=30, p=1, score=0.663, total=   0.2s\n",
      "[CV] algorithm=auto, leaf_size=30, p=2 ...............................\n",
      "[CV] ... algorithm=auto, leaf_size=30, p=2, score=0.646, total=   0.2s\n",
      "[CV] algorithm=auto, leaf_size=30, p=2 ...............................\n",
      "[CV] ... algorithm=auto, leaf_size=30, p=2, score=0.642, total=   0.3s\n",
      "[CV] algorithm=auto, leaf_size=30, p=2 ...............................\n",
      "[CV] ... algorithm=auto, leaf_size=30, p=2, score=0.629, total=   0.2s\n",
      "[CV] algorithm=auto, leaf_size=40, p=1 ...............................\n",
      "[CV] ... algorithm=auto, leaf_size=40, p=1, score=0.666, total=   0.2s\n",
      "[CV] algorithm=auto, leaf_size=40, p=1 ...............................\n",
      "[CV] ... algorithm=auto, leaf_size=40, p=1, score=0.661, total=   0.2s\n",
      "[CV] algorithm=auto, leaf_size=40, p=1 ...............................\n",
      "[CV] ... algorithm=auto, leaf_size=40, p=1, score=0.663, total=   0.2s\n",
      "[CV] algorithm=auto, leaf_size=40, p=2 ...............................\n",
      "[CV] ... algorithm=auto, leaf_size=40, p=2, score=0.646, total=   0.1s\n",
      "[CV] algorithm=auto, leaf_size=40, p=2 ...............................\n",
      "[CV] ... algorithm=auto, leaf_size=40, p=2, score=0.642, total=   0.2s\n",
      "[CV] algorithm=auto, leaf_size=40, p=2 ...............................\n",
      "[CV] ... algorithm=auto, leaf_size=40, p=2, score=0.629, total=   0.1s\n",
      "[CV] algorithm=auto, leaf_size=45, p=1 ...............................\n",
      "[CV] ... algorithm=auto, leaf_size=45, p=1, score=0.666, total=   0.2s\n",
      "[CV] algorithm=auto, leaf_size=45, p=1 ...............................\n",
      "[CV] ... algorithm=auto, leaf_size=45, p=1, score=0.661, total=   0.2s\n",
      "[CV] algorithm=auto, leaf_size=45, p=1 ...............................\n",
      "[CV] ... algorithm=auto, leaf_size=45, p=1, score=0.663, total=   0.2s\n",
      "[CV] algorithm=auto, leaf_size=45, p=2 ...............................\n",
      "[CV] ... algorithm=auto, leaf_size=45, p=2, score=0.646, total=   0.1s\n",
      "[CV] algorithm=auto, leaf_size=45, p=2 ...............................\n",
      "[CV] ... algorithm=auto, leaf_size=45, p=2, score=0.642, total=   0.2s\n",
      "[CV] algorithm=auto, leaf_size=45, p=2 ...............................\n",
      "[CV] ... algorithm=auto, leaf_size=45, p=2, score=0.629, total=   0.1s\n",
      "[CV] algorithm=auto, leaf_size=50, p=1 ...............................\n",
      "[CV] ... algorithm=auto, leaf_size=50, p=1, score=0.666, total=   0.2s\n",
      "[CV] algorithm=auto, leaf_size=50, p=1 ...............................\n",
      "[CV] ... algorithm=auto, leaf_size=50, p=1, score=0.661, total=   0.2s\n",
      "[CV] algorithm=auto, leaf_size=50, p=1 ...............................\n",
      "[CV] ... algorithm=auto, leaf_size=50, p=1, score=0.663, total=   0.2s\n",
      "[CV] algorithm=auto, leaf_size=50, p=2 ...............................\n",
      "[CV] ... algorithm=auto, leaf_size=50, p=2, score=0.646, total=   0.1s\n",
      "[CV] algorithm=auto, leaf_size=50, p=2 ...............................\n",
      "[CV] ... algorithm=auto, leaf_size=50, p=2, score=0.642, total=   0.2s\n",
      "[CV] algorithm=auto, leaf_size=50, p=2 ...............................\n",
      "[CV] ... algorithm=auto, leaf_size=50, p=2, score=0.629, total=   0.1s\n",
      "[CV] algorithm=ball_tree, leaf_size=20, p=1 ..........................\n",
      "[CV]  algorithm=ball_tree, leaf_size=20, p=1, score=0.666, total=   0.3s\n",
      "[CV] algorithm=ball_tree, leaf_size=20, p=1 ..........................\n",
      "[CV]  algorithm=ball_tree, leaf_size=20, p=1, score=0.661, total=   0.3s\n",
      "[CV] algorithm=ball_tree, leaf_size=20, p=1 ..........................\n",
      "[CV]  algorithm=ball_tree, leaf_size=20, p=1, score=0.663, total=   0.3s\n",
      "[CV] algorithm=ball_tree, leaf_size=20, p=2 ..........................\n",
      "[CV]  algorithm=ball_tree, leaf_size=20, p=2, score=0.646, total=   0.3s\n",
      "[CV] algorithm=ball_tree, leaf_size=20, p=2 ..........................\n",
      "[CV]  algorithm=ball_tree, leaf_size=20, p=2, score=0.642, total=   0.3s\n",
      "[CV] algorithm=ball_tree, leaf_size=20, p=2 ..........................\n",
      "[CV]  algorithm=ball_tree, leaf_size=20, p=2, score=0.629, total=   0.2s\n",
      "[CV] algorithm=ball_tree, leaf_size=25, p=1 ..........................\n",
      "[CV]  algorithm=ball_tree, leaf_size=25, p=1, score=0.666, total=   0.3s\n",
      "[CV] algorithm=ball_tree, leaf_size=25, p=1 ..........................\n",
      "[CV]  algorithm=ball_tree, leaf_size=25, p=1, score=0.661, total=   0.3s\n",
      "[CV] algorithm=ball_tree, leaf_size=25, p=1 ..........................\n",
      "[CV]  algorithm=ball_tree, leaf_size=25, p=1, score=0.663, total=   0.2s\n",
      "[CV] algorithm=ball_tree, leaf_size=25, p=2 ..........................\n",
      "[CV]  algorithm=ball_tree, leaf_size=25, p=2, score=0.646, total=   0.3s\n",
      "[CV] algorithm=ball_tree, leaf_size=25, p=2 ..........................\n",
      "[CV]  algorithm=ball_tree, leaf_size=25, p=2, score=0.642, total=   0.3s\n",
      "[CV] algorithm=ball_tree, leaf_size=25, p=2 ..........................\n",
      "[CV]  algorithm=ball_tree, leaf_size=25, p=2, score=0.629, total=   0.2s\n",
      "[CV] algorithm=ball_tree, leaf_size=30, p=1 ..........................\n",
      "[CV]  algorithm=ball_tree, leaf_size=30, p=1, score=0.666, total=   0.3s\n",
      "[CV] algorithm=ball_tree, leaf_size=30, p=1 ..........................\n",
      "[CV]  algorithm=ball_tree, leaf_size=30, p=1, score=0.661, total=   0.3s\n",
      "[CV] algorithm=ball_tree, leaf_size=30, p=1 ..........................\n",
      "[CV]  algorithm=ball_tree, leaf_size=30, p=1, score=0.663, total=   0.3s\n",
      "[CV] algorithm=ball_tree, leaf_size=30, p=2 ..........................\n",
      "[CV]  algorithm=ball_tree, leaf_size=30, p=2, score=0.646, total=   0.3s\n",
      "[CV] algorithm=ball_tree, leaf_size=30, p=2 ..........................\n",
      "[CV]  algorithm=ball_tree, leaf_size=30, p=2, score=0.642, total=   0.3s\n",
      "[CV] algorithm=ball_tree, leaf_size=30, p=2 ..........................\n",
      "[CV]  algorithm=ball_tree, leaf_size=30, p=2, score=0.629, total=   0.3s\n",
      "[CV] algorithm=ball_tree, leaf_size=40, p=1 ..........................\n",
      "[CV]  algorithm=ball_tree, leaf_size=40, p=1, score=0.666, total=   0.3s\n",
      "[CV] algorithm=ball_tree, leaf_size=40, p=1 ..........................\n",
      "[CV]  algorithm=ball_tree, leaf_size=40, p=1, score=0.661, total=   0.3s\n",
      "[CV] algorithm=ball_tree, leaf_size=40, p=1 ..........................\n",
      "[CV]  algorithm=ball_tree, leaf_size=40, p=1, score=0.663, total=   0.3s\n",
      "[CV] algorithm=ball_tree, leaf_size=40, p=2 ..........................\n",
      "[CV]  algorithm=ball_tree, leaf_size=40, p=2, score=0.646, total=   0.3s\n",
      "[CV] algorithm=ball_tree, leaf_size=40, p=2 ..........................\n",
      "[CV]  algorithm=ball_tree, leaf_size=40, p=2, score=0.642, total=   0.3s\n",
      "[CV] algorithm=ball_tree, leaf_size=40, p=2 ..........................\n"
     ]
    },
    {
     "name": "stdout",
     "output_type": "stream",
     "text": [
      "[CV]  algorithm=ball_tree, leaf_size=40, p=2, score=0.629, total=   0.3s\n",
      "[CV] algorithm=ball_tree, leaf_size=45, p=1 ..........................\n",
      "[CV]  algorithm=ball_tree, leaf_size=45, p=1, score=0.666, total=   0.3s\n",
      "[CV] algorithm=ball_tree, leaf_size=45, p=1 ..........................\n",
      "[CV]  algorithm=ball_tree, leaf_size=45, p=1, score=0.661, total=   0.3s\n",
      "[CV] algorithm=ball_tree, leaf_size=45, p=1 ..........................\n",
      "[CV]  algorithm=ball_tree, leaf_size=45, p=1, score=0.663, total=   0.3s\n",
      "[CV] algorithm=ball_tree, leaf_size=45, p=2 ..........................\n",
      "[CV]  algorithm=ball_tree, leaf_size=45, p=2, score=0.646, total=   0.3s\n",
      "[CV] algorithm=ball_tree, leaf_size=45, p=2 ..........................\n",
      "[CV]  algorithm=ball_tree, leaf_size=45, p=2, score=0.642, total=   0.3s\n",
      "[CV] algorithm=ball_tree, leaf_size=45, p=2 ..........................\n",
      "[CV]  algorithm=ball_tree, leaf_size=45, p=2, score=0.629, total=   0.3s\n",
      "[CV] algorithm=ball_tree, leaf_size=50, p=1 ..........................\n",
      "[CV]  algorithm=ball_tree, leaf_size=50, p=1, score=0.666, total=   0.3s\n",
      "[CV] algorithm=ball_tree, leaf_size=50, p=1 ..........................\n",
      "[CV]  algorithm=ball_tree, leaf_size=50, p=1, score=0.661, total=   0.3s\n",
      "[CV] algorithm=ball_tree, leaf_size=50, p=1 ..........................\n",
      "[CV]  algorithm=ball_tree, leaf_size=50, p=1, score=0.663, total=   0.3s\n",
      "[CV] algorithm=ball_tree, leaf_size=50, p=2 ..........................\n",
      "[CV]  algorithm=ball_tree, leaf_size=50, p=2, score=0.646, total=   0.3s\n",
      "[CV] algorithm=ball_tree, leaf_size=50, p=2 ..........................\n",
      "[CV]  algorithm=ball_tree, leaf_size=50, p=2, score=0.642, total=   0.3s\n",
      "[CV] algorithm=ball_tree, leaf_size=50, p=2 ..........................\n",
      "[CV]  algorithm=ball_tree, leaf_size=50, p=2, score=0.629, total=   0.3s\n",
      "[CV] algorithm=kd_tree, leaf_size=20, p=1 ............................\n",
      "[CV]  algorithm=kd_tree, leaf_size=20, p=1, score=0.666, total=   0.2s\n",
      "[CV] algorithm=kd_tree, leaf_size=20, p=1 ............................\n",
      "[CV]  algorithm=kd_tree, leaf_size=20, p=1, score=0.661, total=   0.2s\n",
      "[CV] algorithm=kd_tree, leaf_size=20, p=1 ............................\n",
      "[CV]  algorithm=kd_tree, leaf_size=20, p=1, score=0.663, total=   0.2s\n",
      "[CV] algorithm=kd_tree, leaf_size=20, p=2 ............................\n",
      "[CV]  algorithm=kd_tree, leaf_size=20, p=2, score=0.646, total=   0.2s\n",
      "[CV] algorithm=kd_tree, leaf_size=20, p=2 ............................\n",
      "[CV]  algorithm=kd_tree, leaf_size=20, p=2, score=0.642, total=   0.2s\n",
      "[CV] algorithm=kd_tree, leaf_size=20, p=2 ............................\n",
      "[CV]  algorithm=kd_tree, leaf_size=20, p=2, score=0.629, total=   0.1s\n",
      "[CV] algorithm=kd_tree, leaf_size=25, p=1 ............................\n",
      "[CV]  algorithm=kd_tree, leaf_size=25, p=1, score=0.666, total=   0.2s\n",
      "[CV] algorithm=kd_tree, leaf_size=25, p=1 ............................\n",
      "[CV]  algorithm=kd_tree, leaf_size=25, p=1, score=0.661, total=   0.2s\n",
      "[CV] algorithm=kd_tree, leaf_size=25, p=1 ............................\n",
      "[CV]  algorithm=kd_tree, leaf_size=25, p=1, score=0.663, total=   0.2s\n",
      "[CV] algorithm=kd_tree, leaf_size=25, p=2 ............................\n",
      "[CV]  algorithm=kd_tree, leaf_size=25, p=2, score=0.646, total=   0.2s\n",
      "[CV] algorithm=kd_tree, leaf_size=25, p=2 ............................\n",
      "[CV]  algorithm=kd_tree, leaf_size=25, p=2, score=0.642, total=   0.2s\n",
      "[CV] algorithm=kd_tree, leaf_size=25, p=2 ............................\n",
      "[CV]  algorithm=kd_tree, leaf_size=25, p=2, score=0.629, total=   0.1s\n",
      "[CV] algorithm=kd_tree, leaf_size=30, p=1 ............................\n",
      "[CV]  algorithm=kd_tree, leaf_size=30, p=1, score=0.666, total=   0.2s\n",
      "[CV] algorithm=kd_tree, leaf_size=30, p=1 ............................\n",
      "[CV]  algorithm=kd_tree, leaf_size=30, p=1, score=0.661, total=   0.2s\n",
      "[CV] algorithm=kd_tree, leaf_size=30, p=1 ............................\n",
      "[CV]  algorithm=kd_tree, leaf_size=30, p=1, score=0.663, total=   0.2s\n",
      "[CV] algorithm=kd_tree, leaf_size=30, p=2 ............................\n",
      "[CV]  algorithm=kd_tree, leaf_size=30, p=2, score=0.646, total=   0.2s\n",
      "[CV] algorithm=kd_tree, leaf_size=30, p=2 ............................\n",
      "[CV]  algorithm=kd_tree, leaf_size=30, p=2, score=0.642, total=   0.2s\n",
      "[CV] algorithm=kd_tree, leaf_size=30, p=2 ............................\n",
      "[CV]  algorithm=kd_tree, leaf_size=30, p=2, score=0.629, total=   0.2s\n",
      "[CV] algorithm=kd_tree, leaf_size=40, p=1 ............................\n",
      "[CV]  algorithm=kd_tree, leaf_size=40, p=1, score=0.666, total=   0.2s\n",
      "[CV] algorithm=kd_tree, leaf_size=40, p=1 ............................\n",
      "[CV]  algorithm=kd_tree, leaf_size=40, p=1, score=0.661, total=   0.2s\n",
      "[CV] algorithm=kd_tree, leaf_size=40, p=1 ............................\n",
      "[CV]  algorithm=kd_tree, leaf_size=40, p=1, score=0.663, total=   0.2s\n",
      "[CV] algorithm=kd_tree, leaf_size=40, p=2 ............................\n",
      "[CV]  algorithm=kd_tree, leaf_size=40, p=2, score=0.646, total=   0.2s\n",
      "[CV] algorithm=kd_tree, leaf_size=40, p=2 ............................\n",
      "[CV]  algorithm=kd_tree, leaf_size=40, p=2, score=0.642, total=   0.2s\n",
      "[CV] algorithm=kd_tree, leaf_size=40, p=2 ............................\n",
      "[CV]  algorithm=kd_tree, leaf_size=40, p=2, score=0.629, total=   0.2s\n",
      "[CV] algorithm=kd_tree, leaf_size=45, p=1 ............................\n",
      "[CV]  algorithm=kd_tree, leaf_size=45, p=1, score=0.666, total=   0.2s\n",
      "[CV] algorithm=kd_tree, leaf_size=45, p=1 ............................\n",
      "[CV]  algorithm=kd_tree, leaf_size=45, p=1, score=0.661, total=   0.2s\n",
      "[CV] algorithm=kd_tree, leaf_size=45, p=1 ............................\n",
      "[CV]  algorithm=kd_tree, leaf_size=45, p=1, score=0.663, total=   0.2s\n",
      "[CV] algorithm=kd_tree, leaf_size=45, p=2 ............................\n",
      "[CV]  algorithm=kd_tree, leaf_size=45, p=2, score=0.646, total=   0.2s\n",
      "[CV] algorithm=kd_tree, leaf_size=45, p=2 ............................\n",
      "[CV]  algorithm=kd_tree, leaf_size=45, p=2, score=0.642, total=   0.2s\n",
      "[CV] algorithm=kd_tree, leaf_size=45, p=2 ............................\n",
      "[CV]  algorithm=kd_tree, leaf_size=45, p=2, score=0.629, total=   0.2s\n",
      "[CV] algorithm=kd_tree, leaf_size=50, p=1 ............................\n",
      "[CV]  algorithm=kd_tree, leaf_size=50, p=1, score=0.666, total=   0.2s\n",
      "[CV] algorithm=kd_tree, leaf_size=50, p=1 ............................\n",
      "[CV]  algorithm=kd_tree, leaf_size=50, p=1, score=0.661, total=   0.2s\n",
      "[CV] algorithm=kd_tree, leaf_size=50, p=1 ............................\n",
      "[CV]  algorithm=kd_tree, leaf_size=50, p=1, score=0.663, total=   0.2s\n",
      "[CV] algorithm=kd_tree, leaf_size=50, p=2 ............................\n",
      "[CV]  algorithm=kd_tree, leaf_size=50, p=2, score=0.646, total=   0.2s\n",
      "[CV] algorithm=kd_tree, leaf_size=50, p=2 ............................\n",
      "[CV]  algorithm=kd_tree, leaf_size=50, p=2, score=0.642, total=   0.2s\n",
      "[CV] algorithm=kd_tree, leaf_size=50, p=2 ............................\n",
      "[CV]  algorithm=kd_tree, leaf_size=50, p=2, score=0.629, total=   0.2s\n",
      "[CV] algorithm=brute, leaf_size=20, p=1 ..............................\n",
      "[CV] .. algorithm=brute, leaf_size=20, p=1, score=0.666, total=   0.5s\n",
      "[CV] algorithm=brute, leaf_size=20, p=1 ..............................\n",
      "[CV] .. algorithm=brute, leaf_size=20, p=1, score=0.661, total=   0.4s\n",
      "[CV] algorithm=brute, leaf_size=20, p=1 ..............................\n",
      "[CV] .. algorithm=brute, leaf_size=20, p=1, score=0.663, total=   0.4s\n",
      "[CV] algorithm=brute, leaf_size=20, p=2 ..............................\n",
      "[CV] .. algorithm=brute, leaf_size=20, p=2, score=0.646, total=   0.3s\n",
      "[CV] algorithm=brute, leaf_size=20, p=2 ..............................\n",
      "[CV] .. algorithm=brute, leaf_size=20, p=2, score=0.642, total=   0.2s\n",
      "[CV] algorithm=brute, leaf_size=20, p=2 ..............................\n",
      "[CV] .. algorithm=brute, leaf_size=20, p=2, score=0.629, total=   0.2s\n",
      "[CV] algorithm=brute, leaf_size=25, p=1 ..............................\n",
      "[CV] .. algorithm=brute, leaf_size=25, p=1, score=0.666, total=   0.4s\n",
      "[CV] algorithm=brute, leaf_size=25, p=1 ..............................\n",
      "[CV] .. algorithm=brute, leaf_size=25, p=1, score=0.661, total=   0.4s\n",
      "[CV] algorithm=brute, leaf_size=25, p=1 ..............................\n",
      "[CV] .. algorithm=brute, leaf_size=25, p=1, score=0.663, total=   0.4s\n",
      "[CV] algorithm=brute, leaf_size=25, p=2 ..............................\n"
     ]
    },
    {
     "name": "stdout",
     "output_type": "stream",
     "text": [
      "[CV] .. algorithm=brute, leaf_size=25, p=2, score=0.646, total=   0.2s\n",
      "[CV] algorithm=brute, leaf_size=25, p=2 ..............................\n",
      "[CV] .. algorithm=brute, leaf_size=25, p=2, score=0.642, total=   0.2s\n",
      "[CV] algorithm=brute, leaf_size=25, p=2 ..............................\n",
      "[CV] .. algorithm=brute, leaf_size=25, p=2, score=0.629, total=   0.2s\n",
      "[CV] algorithm=brute, leaf_size=30, p=1 ..............................\n",
      "[CV] .. algorithm=brute, leaf_size=30, p=1, score=0.666, total=   0.4s\n",
      "[CV] algorithm=brute, leaf_size=30, p=1 ..............................\n",
      "[CV] .. algorithm=brute, leaf_size=30, p=1, score=0.661, total=   0.4s\n",
      "[CV] algorithm=brute, leaf_size=30, p=1 ..............................\n",
      "[CV] .. algorithm=brute, leaf_size=30, p=1, score=0.663, total=   0.4s\n",
      "[CV] algorithm=brute, leaf_size=30, p=2 ..............................\n",
      "[CV] .. algorithm=brute, leaf_size=30, p=2, score=0.646, total=   0.2s\n",
      "[CV] algorithm=brute, leaf_size=30, p=2 ..............................\n",
      "[CV] .. algorithm=brute, leaf_size=30, p=2, score=0.642, total=   0.2s\n",
      "[CV] algorithm=brute, leaf_size=30, p=2 ..............................\n",
      "[CV] .. algorithm=brute, leaf_size=30, p=2, score=0.629, total=   0.2s\n",
      "[CV] algorithm=brute, leaf_size=40, p=1 ..............................\n",
      "[CV] .. algorithm=brute, leaf_size=40, p=1, score=0.666, total=   0.4s\n",
      "[CV] algorithm=brute, leaf_size=40, p=1 ..............................\n",
      "[CV] .. algorithm=brute, leaf_size=40, p=1, score=0.661, total=   0.4s\n",
      "[CV] algorithm=brute, leaf_size=40, p=1 ..............................\n",
      "[CV] .. algorithm=brute, leaf_size=40, p=1, score=0.663, total=   0.4s\n",
      "[CV] algorithm=brute, leaf_size=40, p=2 ..............................\n",
      "[CV] .. algorithm=brute, leaf_size=40, p=2, score=0.646, total=   0.2s\n",
      "[CV] algorithm=brute, leaf_size=40, p=2 ..............................\n",
      "[CV] .. algorithm=brute, leaf_size=40, p=2, score=0.642, total=   0.2s\n",
      "[CV] algorithm=brute, leaf_size=40, p=2 ..............................\n",
      "[CV] .. algorithm=brute, leaf_size=40, p=2, score=0.629, total=   0.2s\n",
      "[CV] algorithm=brute, leaf_size=45, p=1 ..............................\n",
      "[CV] .. algorithm=brute, leaf_size=45, p=1, score=0.666, total=   0.4s\n",
      "[CV] algorithm=brute, leaf_size=45, p=1 ..............................\n",
      "[CV] .. algorithm=brute, leaf_size=45, p=1, score=0.661, total=   0.4s\n",
      "[CV] algorithm=brute, leaf_size=45, p=1 ..............................\n",
      "[CV] .. algorithm=brute, leaf_size=45, p=1, score=0.663, total=   0.4s\n",
      "[CV] algorithm=brute, leaf_size=45, p=2 ..............................\n",
      "[CV] .. algorithm=brute, leaf_size=45, p=2, score=0.646, total=   0.2s\n",
      "[CV] algorithm=brute, leaf_size=45, p=2 ..............................\n",
      "[CV] .. algorithm=brute, leaf_size=45, p=2, score=0.642, total=   0.2s\n",
      "[CV] algorithm=brute, leaf_size=45, p=2 ..............................\n",
      "[CV] .. algorithm=brute, leaf_size=45, p=2, score=0.629, total=   0.2s\n",
      "[CV] algorithm=brute, leaf_size=50, p=1 ..............................\n",
      "[CV] .. algorithm=brute, leaf_size=50, p=1, score=0.666, total=   0.4s\n",
      "[CV] algorithm=brute, leaf_size=50, p=1 ..............................\n",
      "[CV] .. algorithm=brute, leaf_size=50, p=1, score=0.661, total=   0.4s\n",
      "[CV] algorithm=brute, leaf_size=50, p=1 ..............................\n",
      "[CV] .. algorithm=brute, leaf_size=50, p=1, score=0.663, total=   0.4s\n",
      "[CV] algorithm=brute, leaf_size=50, p=2 ..............................\n",
      "[CV] .. algorithm=brute, leaf_size=50, p=2, score=0.646, total=   0.2s\n",
      "[CV] algorithm=brute, leaf_size=50, p=2 ..............................\n",
      "[CV] .. algorithm=brute, leaf_size=50, p=2, score=0.642, total=   0.2s\n",
      "[CV] algorithm=brute, leaf_size=50, p=2 ..............................\n",
      "[CV] .. algorithm=brute, leaf_size=50, p=2, score=0.629, total=   0.2s\n"
     ]
    },
    {
     "name": "stderr",
     "output_type": "stream",
     "text": [
      "[Parallel(n_jobs=1)]: Done 144 out of 144 | elapsed:   34.1s finished\n"
     ]
    },
    {
     "data": {
      "text/plain": [
       "GridSearchCV(cv='warn', error_score='raise-deprecating',\n",
       "             estimator=KNeighborsClassifier(algorithm='auto', leaf_size=30,\n",
       "                                            metric='minkowski',\n",
       "                                            metric_params=None, n_jobs=None,\n",
       "                                            n_neighbors=20, p=2,\n",
       "                                            weights='uniform'),\n",
       "             iid='warn', n_jobs=None,\n",
       "             param_grid={'algorithm': ['auto', 'ball_tree', 'kd_tree', 'brute'],\n",
       "                         'leaf_size': [20, 25, 30, 40, 45, 50], 'p': [1, 2]},\n",
       "             pre_dispatch='2*n_jobs', refit=True, return_train_score=False,\n",
       "             scoring=None, verbose=3)"
      ]
     },
     "execution_count": 45,
     "metadata": {},
     "output_type": "execute_result"
    }
   ],
   "source": [
    "# Train the model with GridSearch\n",
    "grid.fit(X_train, y_train)"
   ]
  },
  {
   "cell_type": "code",
   "execution_count": 47,
   "metadata": {},
   "outputs": [
    {
     "name": "stdout",
     "output_type": "stream",
     "text": [
      "{'algorithm': 'auto', 'leaf_size': 20, 'p': 1}\n",
      "0.6631699408735456\n"
     ]
    }
   ],
   "source": [
    "print(grid.best_params_)\n",
    "print(grid.best_score_)"
   ]
  },
  {
   "cell_type": "markdown",
   "metadata": {},
   "source": [
    "# Save the Model"
   ]
  },
  {
   "cell_type": "code",
   "execution_count": 48,
   "metadata": {},
   "outputs": [
    {
     "data": {
      "text/plain": [
       "['daniel.sav']"
      ]
     },
     "execution_count": 48,
     "metadata": {},
     "output_type": "execute_result"
    }
   ],
   "source": [
    "# save your model by updating \"your_name\" with your name\n",
    "# and \"your_model\" with your model variable\n",
    "# be sure to turn this in to BCS\n",
    "# if joblib fails to import, try running the command to install in terminal/git-bash\n",
    "import joblib\n",
    "filename = 'daniel.sav'\n",
    "joblib.dump(model2, filename)"
   ]
  }
 ],
 "metadata": {
  "kernel_info": {
   "name": "dev"
  },
  "kernelspec": {
   "display_name": "Python 3",
   "language": "python",
   "name": "python3"
  },
  "language_info": {
   "codemirror_mode": {
    "name": "ipython",
    "version": 3
   },
   "file_extension": ".py",
   "mimetype": "text/x-python",
   "name": "python",
   "nbconvert_exporter": "python",
   "pygments_lexer": "ipython3",
   "version": "3.7.3"
  },
  "nteract": {
   "version": "0.12.3"
  }
 },
 "nbformat": 4,
 "nbformat_minor": 2
}
